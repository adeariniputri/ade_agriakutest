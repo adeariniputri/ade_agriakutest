{
 "cells": [
  {
   "cell_type": "markdown",
   "id": "5447dbfb",
   "metadata": {},
   "source": [
    "#### How to integrate model for API"
   ]
  },
  {
   "cell_type": "markdown",
   "id": "2c1b2b32",
   "metadata": {},
   "source": [
    "There are many framework/tools that will help you deploy the model into RESTful API like Flask, Heroku, AppEngine, Streamlit . First you may have to fulfil these points :\n",
    "- What do we want our API to do?\n",
    "- What are we passing into?\n",
    "- What are we getting back/expected respond?\n",
    "<br>\n"
   ]
  },
  {
   "cell_type": "markdown",
   "id": "5f598501",
   "metadata": {},
   "source": [
    "Let's say we want to build the classification model (for the asessment test), we choose the Flask as framework to integrate model with API.\n",
    "<br>\n",
    "First you have to install necessary requirements for Flask."
   ]
  },
  {
   "cell_type": "markdown",
   "id": "71aa1bd4",
   "metadata": {},
   "source": [
    "#### Import Libraries\n",
    "Make sure the library is imported \n",
    "we need :\n",
    "1. Flask = for framework\n",
    "2. Numpy = mathematical computation\n",
    "3. Joblib = load the saved model"
   ]
  },
  {
   "cell_type": "markdown",
   "id": "e66857f8",
   "metadata": {},
   "source": [
    "#### Initialize Flask \n",
    "\n",
    "For example Flask Web Application\n",
    "\n",
    "app = Flask(__AppName__)\n"
   ]
  },
  {
   "cell_type": "markdown",
   "id": "df6084c1",
   "metadata": {},
   "source": [
    "#### Load the model\n",
    "model = joblib.load('ANN_model.pkl') "
   ]
  },
  {
   "cell_type": "markdown",
   "id": "2cc78969",
   "metadata": {},
   "source": [
    "#### Define API route\n",
    "This is where the API is built\n",
    "Here's some of the method :\n",
    "- GET, which will return one or more resources without changing them\n",
    "- POST, which creates new resources\n",
    "- PUT, which updates existing resources\n",
    "- DELETE, which removes existing resources"
   ]
  },
  {
   "cell_type": "markdown",
   "id": "f27f01d3",
   "metadata": {},
   "source": [
    "#### Run the Flask App\n",
    "\n",
    "if __name__ == '__main__':\n",
    "    app.run(debug=True)"
   ]
  },
  {
   "cell_type": "markdown",
   "id": "0f706a4a",
   "metadata": {},
   "source": [
    "#### Testing API\n",
    "To test the performance of API that has been built, you need tools like **curl** or **Postman** to send POST request with JSON data to 'predict' endpoint. The API will return predictions of the input data."
   ]
  },
  {
   "cell_type": "markdown",
   "id": "680e7b0a",
   "metadata": {},
   "source": [
    "#### When your API performed well, Deployment"
   ]
  },
  {
   "cell_type": "markdown",
   "id": "87e3312a",
   "metadata": {},
   "source": [
    "Some tools that are used for deployment are : Platform-as-a-Service (PaaS) , AWS Lambda, Heroku. If you want to make your API accessible for the public then use the cloud platform as suggested."
   ]
  },
  {
   "cell_type": "code",
   "execution_count": null,
   "id": "1175ee32",
   "metadata": {},
   "outputs": [],
   "source": []
  }
 ],
 "metadata": {
  "kernelspec": {
   "display_name": "Python 3 (ipykernel)",
   "language": "python",
   "name": "python3"
  },
  "language_info": {
   "codemirror_mode": {
    "name": "ipython",
    "version": 3
   },
   "file_extension": ".py",
   "mimetype": "text/x-python",
   "name": "python",
   "nbconvert_exporter": "python",
   "pygments_lexer": "ipython3",
   "version": "3.9.13"
  }
 },
 "nbformat": 4,
 "nbformat_minor": 5
}
